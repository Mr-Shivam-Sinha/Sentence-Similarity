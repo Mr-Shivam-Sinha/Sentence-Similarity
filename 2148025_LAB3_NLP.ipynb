{
  "nbformat": 4,
  "nbformat_minor": 0,
  "metadata": {
    "colab": {
      "name": "2148025_LAB3_NLP.ipynb",
      "provenance": [],
      "collapsed_sections": []
    },
    "kernelspec": {
      "name": "python3",
      "display_name": "Python 3"
    },
    "language_info": {
      "name": "python"
    }
  },
  "cells": [
    {
      "cell_type": "code",
      "source": [
        "import nltk\n",
        "nltk.download(\"wordnet\")\n",
        "nltk.download('omw-1.4')"
      ],
      "metadata": {
        "colab": {
          "base_uri": "https://localhost:8080/",
          "height": 0
        },
        "id": "QBBWA7cQzCw0",
        "outputId": "7cc64847-0be1-4e2e-823e-4c6064723e40"
      },
      "execution_count": 74,
      "outputs": [
        {
          "output_type": "stream",
          "name": "stderr",
          "text": [
            "[nltk_data] Downloading package wordnet to /root/nltk_data...\n",
            "[nltk_data]   Package wordnet is already up-to-date!\n",
            "[nltk_data] Downloading package omw-1.4 to /root/nltk_data...\n",
            "[nltk_data]   Package omw-1.4 is already up-to-date!\n"
          ]
        },
        {
          "output_type": "execute_result",
          "data": {
            "text/plain": [
              "True"
            ]
          },
          "metadata": {},
          "execution_count": 74
        }
      ]
    },
    {
      "cell_type": "code",
      "source": [
        "from nltk.corpus import wordnet as wn"
      ],
      "metadata": {
        "id": "NZAXqLSfx9Z-"
      },
      "execution_count": 3,
      "outputs": []
    },
    {
      "cell_type": "code",
      "source": [
        "a=\"good car lasts longer\"\n",
        "b=\"car goes really fast\""
      ],
      "metadata": {
        "id": "kDq1PeM1zMji"
      },
      "execution_count": 54,
      "outputs": []
    },
    {
      "cell_type": "code",
      "source": [
        "list1= []\n",
        "list2=[]"
      ],
      "metadata": {
        "id": "8NlpbxnOzVp5"
      },
      "execution_count": 55,
      "outputs": []
    },
    {
      "cell_type": "code",
      "source": [
        "list1=a.split(\" \")\n",
        "list2=b.split(\" \")"
      ],
      "metadata": {
        "id": "MKfeH6OozcQv"
      },
      "execution_count": 56,
      "outputs": []
    },
    {
      "cell_type": "code",
      "source": [
        "syn1=[]\n",
        "syn2=[]"
      ],
      "metadata": {
        "id": "0oZMEcnC1wMe"
      },
      "execution_count": 59,
      "outputs": []
    },
    {
      "cell_type": "code",
      "source": [
        "for word1 in list1:\n",
        "  current_word =wn.synsets(word1)[0]\n",
        "  syn1.append(current_word)\n",
        "syn1"
      ],
      "metadata": {
        "colab": {
          "base_uri": "https://localhost:8080/",
          "height": 0
        },
        "id": "DJMrJGtMzhyG",
        "outputId": "e50679e2-fe3f-4f34-b433-8a99eeb9f4c0"
      },
      "execution_count": 60,
      "outputs": [
        {
          "output_type": "execute_result",
          "data": {
            "text/plain": [
              "[Synset('good.n.01'),\n",
              " Synset('car.n.01'),\n",
              " Synset('stopping_point.n.01'),\n",
              " Synset('longer.n.01')]"
            ]
          },
          "metadata": {},
          "execution_count": 60
        }
      ]
    },
    {
      "cell_type": "code",
      "source": [
        "for word2 in list2:\n",
        "  current_word =wn.synsets(word2)[0]\n",
        "  syn2.append(current_word)\n",
        "syn2"
      ],
      "metadata": {
        "colab": {
          "base_uri": "https://localhost:8080/",
          "height": 0
        },
        "id": "8g4X22Ig2PDe",
        "outputId": "970fb747-ec75-4c44-ec6a-42ed55a1abc9"
      },
      "execution_count": 61,
      "outputs": [
        {
          "output_type": "execute_result",
          "data": {
            "text/plain": [
              "[Synset('car.n.01'),\n",
              " Synset('go.n.01'),\n",
              " Synset('truly.r.01'),\n",
              " Synset('fast.n.01')]"
            ]
          },
          "metadata": {},
          "execution_count": 61
        }
      ]
    },
    {
      "cell_type": "code",
      "source": [
        "sim=[]\n",
        "sim2=[]\n",
        "for i in syn1:\n",
        "  for j in syn2:\n",
        "    w1=i\n",
        "    w2=j\n",
        "    sim.append(w1.wup_similarity(w2))\n",
        "  sim2.append(max(sim))\n",
        "\n",
        "print(sim)\n",
        "print(sim2)"
      ],
      "metadata": {
        "colab": {
          "base_uri": "https://localhost:8080/"
        },
        "id": "yaFpA6ki4ZGQ",
        "outputId": "1e706f87-bb51-4ad5-ace7-d5ff91af2a94"
      },
      "execution_count": 76,
      "outputs": [
        {
          "output_type": "stream",
          "name": "stdout",
          "text": [
            "[0.1111111111111111, 0.25, 0.2, 0.23529411764705882, 1.0, 0.1, 0.14285714285714285, 0.09523809523809523, 0.11764705882352941, 0.4, 0.2222222222222222, 0.25, 0.42105263157894735, 0.14285714285714285, 0.2222222222222222, 0.13333333333333333]\n",
            "[0.25, 1.0, 1.0, 1.0]\n"
          ]
        }
      ]
    },
    {
      "cell_type": "code",
      "source": [
        "avg=0.0\n",
        "length=len(sim)\n",
        "for i in sim:\n",
        "  avg=i+avg\n",
        "print(\"the similarity score between the two sentences is : \",avg/length)"
      ],
      "metadata": {
        "colab": {
          "base_uri": "https://localhost:8080/",
          "height": 0
        },
        "id": "3AOxcNKHN773",
        "outputId": "5468bb2e-103f-4262-a01e-9e519830c84d"
      },
      "execution_count": 72,
      "outputs": [
        {
          "output_type": "stream",
          "name": "stdout",
          "text": [
            "the similarity score between the two sentences is :  0.2527396923681754\n"
          ]
        }
      ]
    },
    {
      "cell_type": "code",
      "source": [
        "avg=0.0\n",
        "length=len(sim2)\n",
        "for i in sim2:\n",
        "  avg=i+avg\n",
        "print(\"the similarity score between the two sentences is : \",avg/length)"
      ],
      "metadata": {
        "colab": {
          "base_uri": "https://localhost:8080/"
        },
        "id": "_9KbdgJb40-I",
        "outputId": "a17e16ac-480a-4fcf-f05b-777c8814151a"
      },
      "execution_count": 77,
      "outputs": [
        {
          "output_type": "stream",
          "name": "stdout",
          "text": [
            "the similarity score between the two sentences is :  0.8125\n"
          ]
        }
      ]
    }
  ]
}